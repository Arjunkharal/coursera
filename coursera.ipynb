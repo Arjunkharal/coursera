{
 "cells": [
  {
   "cell_type": "markdown",
   "id": "272309c1-fd9b-4db4-8044-29e394aaacc3",
   "metadata": {},
   "source": [
    "# MY JUPYTER NOTEBOOK ON IBM WATSON STUDIO"
   ]
  },
  {
   "cell_type": "markdown",
   "id": "294e923d-a1eb-49dc-b739-cc5d4c5fbbe3",
   "metadata": {},
   "source": [
    "**Arjun Kharal**\n",
    "\n",
    "student"
   ]
  },
  {
   "cell_type": "markdown",
   "id": "0c5bd7dc-16e2-4675-882e-3bc30f749265",
   "metadata": {},
   "source": [
    "*I am intrested in data science because data science helps me to understand the data easily and help me to predict where my organization is heading.*"
   ]
  },
  {
   "cell_type": "markdown",
   "id": "427ea14c-a121-4c41-ab9a-a1854aa9cce9",
   "metadata": {},
   "source": [
    "### The given program helps us to predit whether the given number is odd or even."
   ]
  },
  {
   "cell_type": "code",
   "execution_count": 4,
   "id": "e379f924-1f02-4b2a-abff-d282cb94165c",
   "metadata": {},
   "outputs": [
    {
     "name": "stdin",
     "output_type": "stream",
     "text": [
      "enter a number 7\n"
     ]
    },
    {
     "name": "stdout",
     "output_type": "stream",
     "text": [
      "number is odd\n"
     ]
    }
   ],
   "source": [
    "a= int(input(\"enter a number\"))\n",
    "if(a%2==0):\n",
    "    print(\"number is even\")\n",
    "else:\n",
    "    print(\"number is odd\")"
   ]
  },
  {
   "cell_type": "markdown",
   "id": "bf97c5db-6824-4eb5-bff5-f7df8267452b",
   "metadata": {},
   "source": [
    "<hr>\n",
    "\n",
    "~~this is an example of strikethrough~~\n",
    "\n",
    ">this is an exmaple of block quotation."
   ]
  },
  {
   "cell_type": "code",
   "execution_count": null,
   "id": "cb68bbca-6563-4d20-89d0-22cbb59b3d9d",
   "metadata": {},
   "outputs": [],
   "source": []
  }
 ],
 "metadata": {
  "kernelspec": {
   "display_name": "Python 3 (ipykernel)",
   "language": "python",
   "name": "python3"
  },
  "language_info": {
   "codemirror_mode": {
    "name": "ipython",
    "version": 3
   },
   "file_extension": ".py",
   "mimetype": "text/x-python",
   "name": "python",
   "nbconvert_exporter": "python",
   "pygments_lexer": "ipython3",
   "version": "3.11.0"
  }
 },
 "nbformat": 4,
 "nbformat_minor": 5
}
